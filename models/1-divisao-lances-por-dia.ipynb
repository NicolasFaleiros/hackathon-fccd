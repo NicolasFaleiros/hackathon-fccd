{
 "cells": [
  {
   "cell_type": "code",
   "execution_count": 1,
   "metadata": {},
   "outputs": [],
   "source": [
    "import pandas as pd"
   ]
  },
  {
   "cell_type": "code",
   "execution_count": 2,
   "metadata": {},
   "outputs": [],
   "source": [
    "df = pd.read_csv('arquivos_base\\lances.csv')"
   ]
  },
  {
   "cell_type": "code",
   "execution_count": 3,
   "metadata": {},
   "outputs": [],
   "source": [
    "dia1 = 9670000000000000\n",
    "dia2 = 9730000000000000\n",
    "dia3 = 9740000000000000"
   ]
  },
  {
   "cell_type": "code",
   "execution_count": 4,
   "metadata": {},
   "outputs": [],
   "source": [
    "df_lances_dia1 = df[df['tempo'] <= dia1]\n",
    "df_lances_dia2 = df[(df['tempo'] > dia1) & (df['tempo'] <= dia2)]\n",
    "df_lances_dia3 = df[df['tempo'] >= dia3]"
   ]
  },
  {
   "cell_type": "code",
   "execution_count": 5,
   "metadata": {},
   "outputs": [],
   "source": [
    "df_lances_dia1.to_csv('arquivos_base\\df_lances_dia_1', index= False)\n",
    "df_lances_dia2.to_csv('arquivos_base\\df_lances_dia_2', index= False)\n",
    "df_lances_dia3.to_csv('arquivos_base\\df_lances_dia_3', index= False)"
   ]
  }
 ],
 "metadata": {
  "kernelspec": {
   "display_name": "Python 3",
   "language": "python",
   "name": "python3"
  },
  "language_info": {
   "codemirror_mode": {
    "name": "ipython",
    "version": 3
   },
   "file_extension": ".py",
   "mimetype": "text/x-python",
   "name": "python",
   "nbconvert_exporter": "python",
   "pygments_lexer": "ipython3",
   "version": "3.11.9"
  }
 },
 "nbformat": 4,
 "nbformat_minor": 2
}
